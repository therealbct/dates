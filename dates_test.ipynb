{
 "cells": [
  {
   "cell_type": "markdown",
   "metadata": {},
   "source": [
    "# Examples\n",
    "\n",
    "2022 (c) BCT\n",
    "\n",
    "dates.py is a wrapper around pd.Timestamp functions meant to help standardize on this format to facilitate interop\n",
    "\n",
    "Below are some of the common operations using the module."
   ]
  },
  {
   "cell_type": "code",
   "execution_count": 3,
   "metadata": {},
   "outputs": [
    {
     "name": "stdout",
     "output_type": "stream",
     "text": [
      "None\n"
     ]
    }
   ],
   "source": [
    "import pandas as pd\n",
    "import dates as dt\n",
    "# Parsing\n",
    "df = pd.DataFrame(index=['2022-07-22 11:33:22.872903-0400'])\n",
    "df = dt.dt_parse(df)                        # parse the df index - no tz added\n",
    "print(df.index.tzinfo)                      # prints None (no timezone info)\n"
   ]
  },
  {
   "cell_type": "code",
   "execution_count": 4,
   "metadata": {},
   "outputs": [
    {
     "name": "stdout",
     "output_type": "stream",
     "text": [
      "DatetimeIndex(['2022-07-22 12:06:54.114195-04:00'], dtype='datetime64[ns, America/New_York]', freq=None)\n"
     ]
    }
   ],
   "source": [
    "# Add a timezone when none\n",
    "ts = dt.dt_now(tz=None)                     # return current time in UTC without a tz\n",
    "df = pd.DataFrame(index=[ts])\n",
    "df = dt.dt_set_tz(df, \"localtz\", \"utc\")     # convert to local tz, assuming anything without tz is UTC\n",
    "print(df.index)"
   ]
  },
  {
   "cell_type": "code",
   "execution_count": 5,
   "metadata": {},
   "outputs": [
    {
     "name": "stdout",
     "output_type": "stream",
     "text": [
      "DatetimeIndex(['2022-07-22 12:06:54.114195-04:00'], dtype='datetime64[ns, America/New_York]', freq=None)\n"
     ]
    }
   ],
   "source": [
    "# Convert to tz\n",
    "df = dt.dt_set_tz(df, dt.TZ.NYC.st)            # convert time to NYC tz\n",
    "print(df.index)"
   ]
  },
  {
   "cell_type": "code",
   "execution_count": 6,
   "metadata": {},
   "outputs": [
    {
     "name": "stdout",
     "output_type": "stream",
     "text": [
      "DatetimeIndex(['2022-07-22 16:06:54.114195'], dtype='datetime64[ns]', freq=None)\n"
     ]
    }
   ],
   "source": [
    "# Remove tz (converting back to utc when removing)\n",
    "df = dt.dt_set_tz(df, None)                 # remove tz info, after converting to UTC - same as dt_clear_tz(df)\n",
    "print(df.index)"
   ]
  },
  {
   "cell_type": "code",
   "execution_count": 7,
   "metadata": {},
   "outputs": [
    {
     "name": "stdout",
     "output_type": "stream",
     "text": [
      "DatetimeIndex(['2022-07-22 16:06:54.114195+01:00'], dtype='datetime64[ns, Europe/London]', freq=None)\n"
     ]
    }
   ],
   "source": [
    "# Override timezone (overwrite existing tz without changing time)\n",
    "df = dt.dt_overwrite_tz(df, dt.TZ.LON.st)      # change tz, without converting the time\n",
    "print(df.index)"
   ]
  },
  {
   "cell_type": "code",
   "execution_count": 8,
   "metadata": {},
   "outputs": [
    {
     "data": {
      "text/plain": [
       "Timestamp('2022-07-22 00:00:00')"
      ]
     },
     "execution_count": 8,
     "metadata": {},
     "output_type": "execute_result"
    }
   ],
   "source": [
    "# Convert a full timestamp into a date as a pd.Timestamp (not a datetime.date) so time arithmetic remains\n",
    "ts = dt.dt_now()\n",
    "date_dt = dt.dt_date_only(ts)               # keep only the date and return a pd.Timestamp\n",
    "date_dt"
   ]
  },
  {
   "cell_type": "code",
   "execution_count": 9,
   "metadata": {},
   "outputs": [
    {
     "name": "stdout",
     "output_type": "stream",
     "text": [
      "2022-07-22T16:07:20.791131Z\n"
     ]
    }
   ],
   "source": [
    "# Cast a pd.Timestamp into a string\n",
    "ts = dt.dt_now()\n",
    "ts_iso = dt.dt_str(ts, tz=None, keep_ms=True, isoformat=True) + \"Z\" # return current time in RFC-3339 format (for Alpaca API)\n",
    "print(ts_iso)"
   ]
  },
  {
   "cell_type": "code",
   "execution_count": null,
   "metadata": {},
   "outputs": [],
   "source": []
  }
 ],
 "metadata": {
  "kernelspec": {
   "display_name": "Python 3.10.4 ('alp0-OWW-FOo3-py3.10')",
   "language": "python",
   "name": "python3"
  },
  "language_info": {
   "codemirror_mode": {
    "name": "ipython",
    "version": 3
   },
   "file_extension": ".py",
   "mimetype": "text/x-python",
   "name": "python",
   "nbconvert_exporter": "python",
   "pygments_lexer": "ipython3",
   "version": "3.10.4"
  },
  "orig_nbformat": 4,
  "vscode": {
   "interpreter": {
    "hash": "91256eb574c2ce4af1b0589efa1cd887feb9a78fb3be028b03c8a5d02ff776f3"
   }
  }
 },
 "nbformat": 4,
 "nbformat_minor": 2
}
